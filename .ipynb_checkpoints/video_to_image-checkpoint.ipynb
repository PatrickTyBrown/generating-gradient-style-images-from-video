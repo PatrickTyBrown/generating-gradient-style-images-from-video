{
 "cells": [
  {
   "cell_type": "code",
   "execution_count": 34,
   "id": "7748d722-4378-4f2b-ba44-46786673d233",
   "metadata": {},
   "outputs": [],
   "source": [
    "import cv2 as cv\n",
    "import numpy as np\n",
    "import os"
   ]
  },
  {
   "cell_type": "code",
   "execution_count": 17,
   "id": "8d6e3612-f2f0-4c2a-8a78-9b24567180e7",
   "metadata": {},
   "outputs": [
    {
     "name": "stdout",
     "output_type": "stream",
     "text": [
      "(168, 300, 3)\n"
     ]
    }
   ],
   "source": [
    "image = cv.imread(\"download.jpeg\")\n",
    "print(image.shape)"
   ]
  },
  {
   "cell_type": "code",
   "execution_count": 18,
   "id": "d2093381-a092-4626-bcab-730676c35883",
   "metadata": {},
   "outputs": [
    {
     "name": "stdout",
     "output_type": "stream",
     "text": [
      "(168, 300, 3)\n",
      "(100, 100, 3)\n"
     ]
    }
   ],
   "source": [
    "print(image.shape)\n",
    "resize = cv.resize(image, (100,100))\n",
    "print(resize.shape)"
   ]
  },
  {
   "cell_type": "code",
   "execution_count": 25,
   "id": "4d0f9c49-04a5-4257-80b0-69664ab683a3",
   "metadata": {},
   "outputs": [
    {
     "name": "stdout",
     "output_type": "stream",
     "text": [
      "True\n",
      "[False, True]\n",
      "['.ipynb_checkpoints', 'web']\n",
      "['.ipynb_checkpoints', 'web', 'video_to_image.ipynb', 'main.py', 'download (1).jpeg', 'test2.jpg', 'vid.mp4', 'proof_of_concept.ipynb', 'download.jpeg', 'test.jpg']\n",
      "d/script.html\n"
     ]
    }
   ],
   "source": [
    "print(os.path.exists('web/index.html'))\n",
    "sub_directories = [name for name in os.listdir(\".\") if os.path.isdir(name)]\n",
    "print([os.path.exists(os.path.join(dire, 'index.html')) for dire in sub_directories])\n",
    "print( [name for name in os.listdir(\".\") if os.path.isdir(name)])\n",
    "\n",
    "print(os.listdir(\".\"))\n",
    "print(os.path.join('d', 'script.html'))"
   ]
  },
  {
   "cell_type": "code",
   "execution_count": 35,
   "id": "ec622862-b37e-440e-80c6-d211dfd3fe87",
   "metadata": {},
   "outputs": [],
   "source": [
    "def get_file(filename):\n",
    "    if os.path.exists(filename):\n",
    "        return filename\n",
    "    sub_directories = [name for name in os.listdir(\".\") if os.path.isdir(name)]\n",
    "    for directory in sub_directories:\n",
    "        path = os.path.join(directory, filename)\n",
    "        if os.path.exists(path):\n",
    "            return path\n",
    "    return False\n",
    "\n",
    "def count_frames_manual(video):\n",
    "\t# initialize the total number of frames read\n",
    "\ttotal = 0\n",
    "\t# loop over the frames of the video\n",
    "\twhile True:\n",
    "\t\t# grab the current frame\n",
    "\t\t(grabbed, frame) = video.read()\n",
    "\t \n",
    "\t\t# check to see if we have reached the end of the\n",
    "\t\t# video\n",
    "\t\tif not grabbed:\n",
    "\t\t\tbreak\n",
    "\t\t# increment the total number of frames read\n",
    "\t\ttotal += 1\n",
    "\t# return the total number of frames in the video file\n",
    "\treturn total\n",
    "\n"
   ]
  },
  {
   "cell_type": "code",
   "execution_count": 66,
   "id": "559e43b7-dcb0-40ad-9448-a7f5484eaeb9",
   "metadata": {},
   "outputs": [],
   "source": [
    "def run_image_generation(filename, coloring = 'single', method = 'mean', increment='default', added_thickness=0, size = 'default', x_size = 0, y_size = 0):\n",
    "    #find file\n",
    "    path = get_file(filename)\n",
    "\n",
    "    #load vid\n",
    "    video = cv.VideoCapture(path)\n",
    "\n",
    "\n",
    "    try:\n",
    "        len_frames = int(video.get(cv.CAP_PROP_FRAME_COUNT))\n",
    "    except:\n",
    "        len_frames = count_frames_manual(video)\n",
    "        video.release()\n",
    "        video = cv.VideoCapture(path)\n",
    "\n",
    "    if increment =='default':\n",
    "        increment = int(len_frames//1080)+1\n",
    "\n",
    "    \n",
    "    \n",
    "    x_axis_index = 0\n",
    "    if coloring =='single':\n",
    "        method_axis = (0,1)\n",
    "    else:\n",
    "        method_axis = (1)\n",
    "    \n",
    "    if method == 'mean':\n",
    "        def proc_method(frame):\n",
    "            return np.average(frame, axis = method_axis)\n",
    "    elif method == 'median':\n",
    "        def proc_method(frame):\n",
    "            return np.median(frame, axis = method_axis)\n",
    "    elif method == 'shape':\n",
    "        def proc_method(frame):\n",
    "            return frame.reshape(frame.shape[0], 1+added_thickness, 3)\n",
    "\n",
    "    \n",
    "    grabbed, frame = video.read()\n",
    "    out_img = np.zeros((frame.shape[0],1+added_thickness,3))\n",
    "    frame_i = 1\n",
    "    col = 0\n",
    "    \n",
    "    while(True):\n",
    "        if not grabbed:\n",
    "             break\n",
    "        if frame_i % increment ==0:\n",
    "            out_img = np.append(out_img, np.zeros((frame.shape[0],1+added_thickness,3)),1)\n",
    "            color = proc_method(frame)\n",
    "            out_img[:,-1-added_thickness:] = color \n",
    "            col +=1 + added_thickness\n",
    "            grabbed, frame = video.read()\n",
    "            if col >= 1080 and size == 'default':\n",
    "                break\n",
    "        else:\n",
    "            grabbed = video.grab()\n",
    "        frame_i+=1\n",
    "        \n",
    "    if size =='source':\n",
    "        out_img = cv.resize(out_img, [frame.shape[1],frame.shape[0]])\n",
    "    elif size =='custom':\n",
    "        out_img = cv.resize(out_img, (int(x_size),int(y_size)))\n",
    "\n",
    "    print('done')\n",
    "    #blank = blank[:][:]/[255,255,255]\n",
    "    \n",
    "    cv.imwrite(path.rsplit('.', 1)[0]+'.jpg', out_img)\n",
    "    print('saved')\n",
    "    return"
   ]
  },
  {
   "cell_type": "code",
   "execution_count": 67,
   "id": "5ff3038d-2977-4cb7-b895-9b0a8a2f9b12",
   "metadata": {},
   "outputs": [
    {
     "name": "stdout",
     "output_type": "stream",
     "text": [
      "done\n",
      "saved\n"
     ]
    }
   ],
   "source": [
    "run_image_generation(filename='vid.mp4', added_thickness = 5)"
   ]
  },
  {
   "cell_type": "code",
   "execution_count": 18,
   "id": "818fe5de-992c-4a55-bb6a-8d612e61032a",
   "metadata": {},
   "outputs": [
    {
     "ename": "NameError",
     "evalue": "name 'frame' is not defined",
     "output_type": "error",
     "traceback": [
      "\u001b[0;31m---------------------------------------------------------------------------\u001b[0m",
      "\u001b[0;31mNameError\u001b[0m                                 Traceback (most recent call last)",
      "Input \u001b[0;32mIn [18]\u001b[0m, in \u001b[0;36m<cell line: 1>\u001b[0;34m()\u001b[0m\n\u001b[0;32m----> 1\u001b[0m \u001b[38;5;28mprint\u001b[39m(\u001b[43mframe\u001b[49m)\n",
      "\u001b[0;31mNameError\u001b[0m: name 'frame' is not defined"
     ]
    }
   ],
   "source": [
    "print(frame)"
   ]
  },
  {
   "cell_type": "code",
   "execution_count": 100,
   "id": "bdb0b7fc-601c-4925-bfc0-0ba8286e7a1d",
   "metadata": {},
   "outputs": [
    {
     "name": "stdout",
     "output_type": "stream",
     "text": [
      "[[[2.24 1.94 2.54]\n",
      "  [2.24 1.94 2.54]\n",
      "  [2.24 1.94 2.54]\n",
      "  ...\n",
      "  [2.38 0.88 0.12]\n",
      "  [2.38 0.88 0.12]\n",
      "  [2.38 0.88 0.12]]\n",
      "\n",
      " [[2.24 1.94 2.54]\n",
      "  [2.24 1.94 2.54]\n",
      "  [2.24 1.94 2.54]\n",
      "  ...\n",
      "  [2.38 0.88 0.12]\n",
      "  [2.38 0.88 0.12]\n",
      "  [2.38 0.88 0.12]]\n",
      "\n",
      " [[2.24 1.94 2.54]\n",
      "  [2.24 1.94 2.54]\n",
      "  [2.24 1.94 2.54]\n",
      "  ...\n",
      "  [2.38 0.88 0.12]\n",
      "  [2.38 0.88 0.12]\n",
      "  [2.38 0.88 0.12]]\n",
      "\n",
      " ...\n",
      "\n",
      " [[0.44 0.14 0.74]\n",
      "  [0.44 0.14 0.74]\n",
      "  [0.44 0.14 0.74]\n",
      "  ...\n",
      "  [1.8  1.8  1.8 ]\n",
      "  [1.8  1.8  1.8 ]\n",
      "  [1.8  1.8  1.8 ]]\n",
      "\n",
      " [[0.44 0.14 0.74]\n",
      "  [0.44 0.14 0.74]\n",
      "  [0.44 0.14 0.74]\n",
      "  ...\n",
      "  [1.8  1.8  1.8 ]\n",
      "  [1.8  1.8  1.8 ]\n",
      "  [1.8  1.8  1.8 ]]\n",
      "\n",
      " [[0.44 0.14 0.74]\n",
      "  [0.44 0.14 0.74]\n",
      "  [0.44 0.14 0.74]\n",
      "  ...\n",
      "  [1.8  1.8  1.8 ]\n",
      "  [1.8  1.8  1.8 ]\n",
      "  [1.8  1.8  1.8 ]]]\n",
      "(240, 664, 3)\n"
     ]
    },
    {
     "ename": "AttributeError",
     "evalue": "'NoneType' object has no attribute 'shape'",
     "output_type": "error",
     "traceback": [
      "\u001b[0;31m---------------------------------------------------------------------------\u001b[0m",
      "\u001b[0;31mAttributeError\u001b[0m                            Traceback (most recent call last)",
      "Input \u001b[0;32mIn [103]\u001b[0m, in \u001b[0;36m<cell line: 4>\u001b[0;34m()\u001b[0m\n\u001b[1;32m      2\u001b[0m \u001b[38;5;28mprint\u001b[39m(running_sum\u001b[38;5;241m/\u001b[39mincrement)\n\u001b[1;32m      3\u001b[0m \u001b[38;5;28mprint\u001b[39m(blank\u001b[38;5;241m.\u001b[39mshape)\n\u001b[0;32m----> 4\u001b[0m \u001b[38;5;28mprint\u001b[39m(np\u001b[38;5;241m.\u001b[39mappend(np\u001b[38;5;241m.\u001b[39mzeros((\u001b[43mframe\u001b[49m\u001b[38;5;241;43m.\u001b[39;49m\u001b[43mshape\u001b[49m[\u001b[38;5;241m0\u001b[39m],\u001b[38;5;241m1\u001b[39m,\u001b[38;5;241m3\u001b[39m)),np\u001b[38;5;241m.\u001b[39mzeros((frame\u001b[38;5;241m.\u001b[39mshape[\u001b[38;5;241m0\u001b[39m],\u001b[38;5;241m1\u001b[39m,\u001b[38;5;241m3\u001b[39m)),\u001b[38;5;241m1\u001b[39m)\u001b[38;5;241m.\u001b[39mshape)\n",
      "\u001b[0;31mAttributeError\u001b[0m: 'NoneType' object has no attribute 'shape'"
     ]
    }
   ],
   "source": [
    "print(blank.astype(int))\n",
    "print(running_sum)\n",
    "print(blank.shape)\n",
    "print(np.append(np.zeros((frame.shape[0],1,3)),np.zeros((frame.shape[0],1,3)),1).shape)"
   ]
  },
  {
   "cell_type": "code",
   "execution_count": 11,
   "id": "62636a0a-3453-4dd6-be81-125beb9f4dc8",
   "metadata": {},
   "outputs": [
    {
     "name": "stdout",
     "output_type": "stream",
     "text": [
      "(240, 426, 3)\n",
      "156\n",
      "(240, 426, 3)\n",
      "done\n",
      "saved\n"
     ]
    }
   ],
   "source": [
    "cap = cv.VideoCapture('vid.mp4')\n",
    "\n",
    "frames=1\n",
    "col = 0\n",
    "vid = []\n",
    "while(True):\n",
    "    grabbed, frame = cap.read()\n",
    "    if frames == 1:\n",
    "        blank = np.zeros(frame.shape)\n",
    "        print(blank.shape)\n",
    "        increment = int(66329/frame.shape[1])+1\n",
    "        print(increment)\n",
    "        print(frame.shape)\n",
    "        \n",
    "    if not grabbed:\n",
    "        break\n",
    "    if frames % increment ==  0:\n",
    "        # print(frames)\n",
    "        # print(col, blank.shape)\n",
    "        blank[:,col] = np.average(frame, axis = (1))\n",
    "        col +=1\n",
    "    frames+=1\n",
    "print('done')\n",
    "#blank = blank[:][:]/[255,255,255]\n",
    "cv.imwrite('test2.jpg', blank)\n",
    "print('saved')"
   ]
  },
  {
   "cell_type": "code",
   "execution_count": null,
   "id": "b569014f-89d1-4bce-85ab-298f6ebfaac8",
   "metadata": {},
   "outputs": [],
   "source": [
    "blank = blank[:][:]*[255,255,255]\n",
    "cv.imwrite('test.jpg', blank)\n",
    "display(blank)"
   ]
  },
  {
   "cell_type": "code",
   "execution_count": 18,
   "id": "64c32fb2-368d-4f83-82b0-5a5639b8444d",
   "metadata": {},
   "outputs": [
    {
     "name": "stdout",
     "output_type": "stream",
     "text": [
      "[61.59277191 59.59297731 63.72327856]\n"
     ]
    }
   ],
   "source": [
    "print(blank[102][100])"
   ]
  },
  {
   "cell_type": "code",
   "execution_count": 9,
   "id": "b1826147-3b81-4514-9cc5-9f15ef774d3c",
   "metadata": {},
   "outputs": [
    {
     "name": "stdout",
     "output_type": "stream",
     "text": [
      "66329\n"
     ]
    }
   ],
   "source": [
    "total = int(cap.get(cv.CAP_PROP_FRAME_COUNT))\n",
    "print(total)"
   ]
  },
  {
   "cell_type": "code",
   "execution_count": 5,
   "id": "346a29f8-a30d-49a5-889d-4f7748be7a33",
   "metadata": {},
   "outputs": [],
   "source": [
    "def display(image):\n",
    "    # Window name in which image is displayed\n",
    "    window_name = 'image'\n",
    "\n",
    "    # Using cv2.imshow() method \n",
    "    # Displaying the image \n",
    "    cv.imshow(window_name, image)\n",
    "\n",
    "    #waits for user to press any key \n",
    "    #(this is necessary to avoid Python kernel form crashing)\n",
    "    cv.waitKey(0) \n",
    "\n",
    "    #closing all open windows \n",
    "    cv.destroyAllWindows() "
   ]
  },
  {
   "cell_type": "code",
   "execution_count": 4,
   "id": "0b879749-bc74-4b30-867b-682b06553cb2",
   "metadata": {},
   "outputs": [
    {
     "data": {
      "text/plain": [
       "(168, 300, 3)"
      ]
     },
     "execution_count": 4,
     "metadata": {},
     "output_type": "execute_result"
    }
   ],
   "source": [
    "blank = np.zeros(image.shape)\n",
    "blank.shape"
   ]
  },
  {
   "cell_type": "code",
   "execution_count": 10,
   "id": "d218b9ea-161b-4ba5-b064-4129cc77a1f3",
   "metadata": {},
   "outputs": [],
   "source": [
    "display(blank)"
   ]
  },
  {
   "cell_type": "code",
   "execution_count": 7,
   "id": "aa91a42a-fc41-41a5-a3e4-5e015f225232",
   "metadata": {},
   "outputs": [
    {
     "name": "stdout",
     "output_type": "stream",
     "text": [
      "(168, 3)\n"
     ]
    }
   ],
   "source": [
    "color = np.average(image, axis = (1))\n",
    "print(color.shape)"
   ]
  },
  {
   "cell_type": "code",
   "execution_count": 10,
   "id": "8708fb5b-ca1e-4031-a960-b67783d1a955",
   "metadata": {},
   "outputs": [
    {
     "name": "stdout",
     "output_type": "stream",
     "text": [
      "[0. 0. 0.]\n"
     ]
    },
    {
     "data": {
      "text/plain": [
       "[97.4171626984127, 94.4480753968254, 103.7490873015873]"
      ]
     },
     "execution_count": 10,
     "metadata": {},
     "output_type": "execute_result"
    }
   ],
   "source": [
    "print(blank[0][0])\n",
    "list(color)"
   ]
  },
  {
   "cell_type": "code",
   "execution_count": 16,
   "id": "a8356ed6-97ee-4edf-95fa-0cd2e119cdbc",
   "metadata": {},
   "outputs": [],
   "source": [
    "blank[:][:] = color"
   ]
  },
  {
   "cell_type": "code",
   "execution_count": 9,
   "id": "e927e5c0-6841-4758-b0bb-e8055ae2dd46",
   "metadata": {},
   "outputs": [],
   "source": [
    "blank = blank[:][:]/[255,255,255]"
   ]
  },
  {
   "cell_type": "code",
   "execution_count": 3,
   "id": "c9f98ac9-c5ec-40d0-8ad8-02be409930ad",
   "metadata": {},
   "outputs": [],
   "source": [
    "def get_file(filename):\n",
    "    if os.path.exists(filename):\n",
    "        return filename\n",
    "    sub_directories = [name for name in os.listdir(\".\") if os.path.isdir(name)]\n",
    "    for directory in sub_directories:\n",
    "        path = os.path.join(directory, filename)\n",
    "        if os.path.exists(path):\n",
    "            return path\n",
    "    return False\n",
    "\n",
    "def count_frames_manual(video):\n",
    "\t# initialize the total number of frames read\n",
    "\ttotal = 0\n",
    "\t# loop over the frames of the video\n",
    "\twhile True:\n",
    "\t\t# grab the current frame\n",
    "\t\t(grabbed, frame) = video.read()\n",
    "\t \n",
    "\t\t# check to see if we have reached the end of the\n",
    "\t\t# video\n",
    "\t\tif not grabbed:\n",
    "\t\t\tbreak\n",
    "\t\t# increment the total number of frames read\n",
    "\t\ttotal += 1\n",
    "\t# return the total number of frames in the video file\n",
    "\treturn total\n",
    "\n",
    "def run_image_generation(filename, coloring = 'single', method = 'mean', increment='default', added_thickness=0, size = 'default', x_size = 0, y_size = 0):\n",
    "    #find file\n",
    "    path = get_file(filename)\n",
    "\n",
    "    #load vid\n",
    "    video = cv.VideoCapture(path)\n",
    "\n",
    "\n",
    "    try:\n",
    "        len_frames = int(video.get(cv.CAP_PROP_FRAME_COUNT))\n",
    "    except:\n",
    "        len_frames = count_frames_manual(video)\n",
    "        video.release()\n",
    "        video = cv.VideoCapture(path)\n",
    "\n",
    "    if increment =='default':\n",
    "        increment = int(len_frames//1080)+1\n",
    "\n",
    "    \n",
    "    \n",
    "    x_axis_index = 0\n",
    "    if coloring =='single':\n",
    "        method_axis = (0,1)\n",
    "    else:\n",
    "        method_axis = (1)\n",
    "    \n",
    "    if method == 'mean':\n",
    "        def proc_method(frame):\n",
    "            return np.average(frame, axis = method_axis)\n",
    "    elif method == 'median':\n",
    "        def proc_method(frame):\n",
    "            return np.median(frame, axis = method_axis)\n",
    "    elif method == 'mode':\n",
    "        def proc_method(frame):\n",
    "            return np.argmax([np.bincount(x) for x in frame.reshape(-1, 3).T], axis=method_axis)\n",
    "\n",
    "    \n",
    "    grabbed, frame = video.read()\n",
    "    out_img = np.zeros((frame.shape[0],1+added_thickness,3))\n",
    "    frame_i = 1\n",
    "    col = 0\n",
    "    \n",
    "    while(True):\n",
    "        if not grabbed:\n",
    "            break\n",
    "        if frame_i % increment ==  0:\n",
    "            out_img = np.append(out_img, np.zeros((frame.shape[0],1+added_thickness,3)),1)\n",
    "            out_img[:,-1*1+added_thickness] = proc_method(frame)\n",
    "            col +=1 + added_thickness\n",
    "        if col >= 1080 and size == 'default':\n",
    "            break\n",
    "        frame_i+=1\n",
    "\n",
    "        grabbed, frame = video.read()\n",
    "\n",
    "    if size =='source':\n",
    "        out_img = cv.resize(out_img, [frame.shape[1],frame.shape[0]])\n",
    "    elif size =='custom':\n",
    "        out_img = cv.resize(out_img, [x_size,y_size])\n",
    "\n",
    "    print('done')\n",
    "    #blank = blank[:][:]/[255,255,255]\n",
    "    \n",
    "    cv.imwrite(path.rsplit('.', 1)[0]+'.jpg', out_img)\n",
    "    print('saved')\n",
    "    return"
   ]
  },
  {
   "cell_type": "code",
   "execution_count": 15,
   "id": "6be3293c-478a-43ca-9f26-452fd12f3a3b",
   "metadata": {},
   "outputs": [
    {
     "name": "stdout",
     "output_type": "stream",
     "text": [
      "done\n",
      "saved\n"
     ]
    }
   ],
   "source": [
    "run_image_generation(filename='vid.mp4')"
   ]
  },
  {
   "cell_type": "code",
   "execution_count": null,
   "id": "2b76eceb-b0ae-4595-ac4f-4d283f622e66",
   "metadata": {},
   "outputs": [],
   "source": []
  }
 ],
 "metadata": {
  "kernelspec": {
   "display_name": "Video to Image",
   "language": "python",
   "name": "myenv"
  },
  "language_info": {
   "codemirror_mode": {
    "name": "ipython",
    "version": 3
   },
   "file_extension": ".py",
   "mimetype": "text/x-python",
   "name": "python",
   "nbconvert_exporter": "python",
   "pygments_lexer": "ipython3",
   "version": "3.10.4"
  }
 },
 "nbformat": 4,
 "nbformat_minor": 5
}
