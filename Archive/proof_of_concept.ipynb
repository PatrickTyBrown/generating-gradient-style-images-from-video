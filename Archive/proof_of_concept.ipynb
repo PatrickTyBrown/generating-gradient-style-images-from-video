{
 "cells": [
  {
   "cell_type": "code",
   "execution_count": 1,
   "id": "7748d722-4378-4f2b-ba44-46786673d233",
   "metadata": {},
   "outputs": [],
   "source": [
    "import cv2 as cv\n",
    "import numpy as np\n",
    "import os"
   ]
  },
  {
   "cell_type": "code",
   "execution_count": 2,
   "id": "8d6e3612-f2f0-4c2a-8a78-9b24567180e7",
   "metadata": {},
   "outputs": [
    {
     "name": "stdout",
     "output_type": "stream",
     "text": [
      "(168, 300, 3)\n"
     ]
    }
   ],
   "source": [
    "image = cv.imread(\"download.jpeg\")\n",
    "print(image.shape)"
   ]
  },
  {
   "cell_type": "code",
   "execution_count": 3,
   "id": "346a29f8-a30d-49a5-889d-4f7748be7a33",
   "metadata": {},
   "outputs": [],
   "source": [
    "def display(image):\n",
    "    # Window name in which image is displayed\n",
    "    window_name = 'image'\n",
    "\n",
    "    # Using cv2.imshow() method \n",
    "    # Displaying the image \n",
    "    cv.imshow(window_name, image)\n",
    "\n",
    "    #waits for user to press any key \n",
    "    #(this is necessary to avoid Python kernel form crashing)\n",
    "    cv.waitKey(0) \n",
    "\n",
    "    #closing all open windows \n",
    "    cv.destroyAllWindows() "
   ]
  },
  {
   "cell_type": "code",
   "execution_count": 4,
   "id": "0b879749-bc74-4b30-867b-682b06553cb2",
   "metadata": {},
   "outputs": [
    {
     "data": {
      "text/plain": [
       "(168, 300, 3)"
      ]
     },
     "execution_count": 4,
     "metadata": {},
     "output_type": "execute_result"
    }
   ],
   "source": [
    "blank = np.zeros(image.shape)\n",
    "blank.shape"
   ]
  },
  {
   "cell_type": "code",
   "execution_count": 18,
   "id": "d218b9ea-161b-4ba5-b064-4129cc77a1f3",
   "metadata": {},
   "outputs": [],
   "source": [
    "display(blank)"
   ]
  },
  {
   "cell_type": "code",
   "execution_count": 6,
   "id": "aa91a42a-fc41-41a5-a3e4-5e015f225232",
   "metadata": {},
   "outputs": [],
   "source": [
    "color = np.average(image, axis = (0,1))"
   ]
  },
  {
   "cell_type": "code",
   "execution_count": 10,
   "id": "8708fb5b-ca1e-4031-a960-b67783d1a955",
   "metadata": {},
   "outputs": [
    {
     "name": "stdout",
     "output_type": "stream",
     "text": [
      "[0. 0. 0.]\n"
     ]
    },
    {
     "data": {
      "text/plain": [
       "[97.4171626984127, 94.4480753968254, 103.7490873015873]"
      ]
     },
     "execution_count": 10,
     "metadata": {},
     "output_type": "execute_result"
    }
   ],
   "source": [
    "print(blank[0][0])\n",
    "list(color)"
   ]
  },
  {
   "cell_type": "code",
   "execution_count": 16,
   "id": "a8356ed6-97ee-4edf-95fa-0cd2e119cdbc",
   "metadata": {},
   "outputs": [],
   "source": [
    "blank[:][:] = color"
   ]
  },
  {
   "cell_type": "code",
   "execution_count": 17,
   "id": "e927e5c0-6841-4758-b0bb-e8055ae2dd46",
   "metadata": {},
   "outputs": [],
   "source": [
    "blank = blank[:][:]/[255,255,255]"
   ]
  },
  {
   "cell_type": "code",
   "execution_count": null,
   "id": "c9f98ac9-c5ec-40d0-8ad8-02be409930ad",
   "metadata": {},
   "outputs": [],
   "source": []
  }
 ],
 "metadata": {
  "kernelspec": {
   "display_name": "Video to Image",
   "language": "python",
   "name": "myenv"
  },
  "language_info": {
   "codemirror_mode": {
    "name": "ipython",
    "version": 3
   },
   "file_extension": ".py",
   "mimetype": "text/x-python",
   "name": "python",
   "nbconvert_exporter": "python",
   "pygments_lexer": "ipython3",
   "version": "3.10.4"
  }
 },
 "nbformat": 4,
 "nbformat_minor": 5
}
